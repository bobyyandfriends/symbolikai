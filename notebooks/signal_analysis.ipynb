{
 "cells": [
  {
   "cell_type": "code",
   "execution_count": null,
   "metadata": {
    "vscode": {
     "languageId": "plaintext"
    }
   },
   "outputs": [],
   "source": [
    "# Signal Analysis Notebook\n",
    "# -------------------------------\n",
    "import pandas as pd\n",
    "import matplotlib.pyplot as plt\n",
    "from data.signal_loader import load_signals_from_file\n",
    "from reporting.signal_heatmap import plot_signal_distribution\n",
    "\n",
    "symbol = \"AAPL\"\n",
    "signal_data = load_signals_from_file(f\"data/signals/{symbol}_signals.csv\")\n",
    "\n",
    "# Display basic stats\n",
    "print(signal_data[\"signal\"].value_counts())\n",
    "\n",
    "# Time distribution\n",
    "plot_signal_distribution(signal_data)\n"
   ]
  }
 ],
 "metadata": {
  "language_info": {
   "name": "python"
  }
 },
 "nbformat": 4,
 "nbformat_minor": 2
}
