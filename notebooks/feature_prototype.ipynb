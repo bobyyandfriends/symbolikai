{
 "cells": [
  {
   "cell_type": "code",
   "execution_count": null,
   "metadata": {
    "vscode": {
     "languageId": "plaintext"
    }
   },
   "outputs": [],
   "source": [
    "# Feature Engineering Prototype\n",
    "# --------------------------------\n",
    "import pandas as pd\n",
    "from data.pricing_loader import load_price_data\n",
    "from data.signal_loader import load_signals_from_file\n",
    "from ml.feature_engineering import generate_features\n",
    "import matplotlib.pyplot as plt\n",
    "\n",
    "symbol = \"AAPL\"\n",
    "timeframe = \"daily\"\n",
    "\n",
    "# Load data\n",
    "price_data = load_price_data(symbol, timeframe)\n",
    "signal_data = load_signals_from_file(f\"data/signals/{symbol}_signals.csv\")\n",
    "\n",
    "# Generate features\n",
    "features = generate_features(price_data, signal_data)\n",
    "\n",
    "# Visualize\n",
    "features[[\"rsi\", \"momentum\", \"volatility\"]].plot(subplots=True, figsize=(12, 8))\n",
    "plt.suptitle(f\"{symbol} - Technical Features\")\n",
    "plt.show()\n"
   ]
  }
 ],
 "metadata": {
  "language_info": {
   "name": "python"
  }
 },
 "nbformat": 4,
 "nbformat_minor": 2
}
