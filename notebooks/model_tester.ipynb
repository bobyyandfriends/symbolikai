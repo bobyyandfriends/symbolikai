{
 "cells": [
  {
   "cell_type": "code",
   "execution_count": null,
   "metadata": {
    "vscode": {
     "languageId": "plaintext"
    }
   },
   "outputs": [],
   "source": [
    "# Model Tester\n",
    "# ---------------------\n",
    "import pandas as pd\n",
    "from ml.model_training import train_model\n",
    "from ml.model_inference import score_trades\n",
    "from data.pricing_loader import load_price_data\n",
    "from data.signal_loader import load_signals_from_file\n",
    "\n",
    "symbol = \"AAPL\"\n",
    "timeframe = \"daily\"\n",
    "\n",
    "price_data = load_price_data(symbol, timeframe)\n",
    "signal_data = load_signals_from_file(f\"data/signals/{symbol}_signals.csv\")\n",
    "\n",
    "# Train model\n",
    "model, X_val, y_val = train_model(price_data, signal_data)\n",
    "\n",
    "# Predict and score\n",
    "scored_df = score_trades(price_data, signal_data, model)\n",
    "\n",
    "scored_df[[\"score\"]].plot(title=\"Trade Entry Scores\")\n"
   ]
  }
 ],
 "metadata": {
  "language_info": {
   "name": "python"
  }
 },
 "nbformat": 4,
 "nbformat_minor": 2
}
